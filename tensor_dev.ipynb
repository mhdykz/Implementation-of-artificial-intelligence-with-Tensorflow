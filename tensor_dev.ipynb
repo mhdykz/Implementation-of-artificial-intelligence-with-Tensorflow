{
  "nbformat": 4,
  "nbformat_minor": 0,
  "metadata": {
    "colab": {
      "provenance": [],
      "authorship_tag": "ABX9TyN3J6T3NUFU6muILab9cOCB",
      "include_colab_link": true
    },
    "kernelspec": {
      "name": "python3",
      "display_name": "Python 3"
    },
    "language_info": {
      "name": "python"
    }
  },
  "cells": [
    {
      "cell_type": "markdown",
      "metadata": {
        "id": "view-in-github",
        "colab_type": "text"
      },
      "source": [
        "<a href=\"https://colab.research.google.com/github/mhdykz/Implementation-of-artificial-intelligence-with-Tensorflow/blob/main/tensor_dev.ipynb\" target=\"_parent\"><img src=\"https://colab.research.google.com/assets/colab-badge.svg\" alt=\"Open In Colab\"/></a>"
      ]
    },
    {
      "cell_type": "code",
      "execution_count": 1,
      "metadata": {
        "id": "psRqjCrNz-Ld"
      },
      "outputs": [],
      "source": [
        "from tensorflow.keras.preprocessing.image import ImageDataGenerator\n",
        "from tensorflow.keras.layers import Conv2D, MaxPooling2D"
      ]
    },
    {
      "cell_type": "code",
      "source": [
        "import numpy as np\n",
        "import h5py\n",
        "from tensorflow import keras\n",
        "from keras.models import Sequential\n",
        "from keras.layers import Dense , Input , Flatten , Dropout , LeakyReLU\n",
        "from keras.optimizers import Adam\n",
        "import matplotlib.pyplot as plt\n",
        "from keras.callbacks import EarlyStopping\n"
      ],
      "metadata": {
        "id": "SYn4ID1P1S24"
      },
      "execution_count": 3,
      "outputs": []
    },
    {
      "cell_type": "code",
      "source": [
        "def load_data():\n",
        "    train_dataset = h5py.File('train_catvnoncat.h5', \"r\")\n",
        "    train_set_x_orig = np.array(train_dataset[\"train_set_x\"][:])  # Training features\n",
        "    train_set_y_orig = np.array(train_dataset[\"train_set_y\"][:])  # Training labels\n",
        "\n",
        "    test_dataset = h5py.File('test_catvnoncat.h5', \"r\")\n",
        "    test_set_x_orig = np.array(test_dataset[\"test_set_x\"][:])   # Test features\n",
        "    test_set_y_orig = np.array(test_dataset[\"test_set_y\"][:])   # Test labels\n",
        "\n",
        "    train_set_y_orig = train_set_y_orig.reshape((train_set_y_orig.shape[0], 1))\n",
        "    test_set_y_orig = test_set_y_orig.reshape((test_set_y_orig.shape[0], 1))\n",
        "\n",
        "    return train_set_x_orig, train_set_y_orig, test_set_x_orig, test_set_y_orig\n",
        "\n",
        "train_set_x_orig, train_set_y_orig, test_set_x_orig, test_set_y_orig = load_data()"
      ],
      "metadata": {
        "id": "MS2VY2nB07lb"
      },
      "execution_count": 4,
      "outputs": []
    },
    {
      "cell_type": "code",
      "source": [
        "x_train = train_set_x_orig.astype(\"float32\") / 255\n",
        "x_test = test_set_x_orig.astype(\"float32\") / 255\n",
        "\n",
        "y_train = train_set_y_orig\n",
        "y_test = test_set_y_orig"
      ],
      "metadata": {
        "id": "IjDnvQ4g1M6M"
      },
      "execution_count": 5,
      "outputs": []
    },
    {
      "cell_type": "code",
      "source": [],
      "metadata": {
        "id": "KlVy3sxL1tW4"
      },
      "execution_count": null,
      "outputs": []
    }
  ]
}